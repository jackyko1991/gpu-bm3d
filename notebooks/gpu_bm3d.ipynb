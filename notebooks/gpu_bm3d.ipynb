{
 "cells": [
  {
   "cell_type": "markdown",
   "metadata": {},
   "source": [
    "# pyGpuBM3D Demo\n",
    "\n",
    "This notebook is a demo script for gpu-bm3d denoise method."
   ]
  },
  {
   "cell_type": "code",
   "execution_count": 1,
   "metadata": {},
   "outputs": [],
   "source": [
    "import sys\n",
    "import os\n",
    "sys.path.append(os.path.abspath(\"../build/\"))\n",
    "import pyGpuBM3D\n",
    "\n",
    "import numpy as np"
   ]
  },
  {
   "cell_type": "code",
   "execution_count": 2,
   "metadata": {},
   "outputs": [
    {
     "data": {
      "text/plain": [
       "array([[190,  15,  66,  82, 132, 173,  73, 116,  67, 165],\n",
       "       [214,  46, 112,  38, 254,  60, 154,  23, 251, 228],\n",
       "       [147, 156, 246, 217, 154, 195, 233, 229, 233,  39],\n",
       "       [ 81, 240,  49, 203, 202,  78,  16, 145, 192,  44],\n",
       "       [ 60,  10, 237, 151, 183,  19, 149,  61,  45, 250],\n",
       "       [249, 216,  11, 148, 122, 125, 254, 203, 139, 191],\n",
       "       [ 49, 115,  12,  85, 140, 200,   7, 138,  52, 154],\n",
       "       [159, 162, 237,  51,  45, 208, 135,   8, 166,  76],\n",
       "       [120, 161, 165,  64, 168, 128, 247,  29, 164, 211],\n",
       "       [ 27, 129,  20,  14,  47,   9, 210,  68, 220, 251]], dtype=uint8)"
      ]
     },
     "execution_count": 2,
     "metadata": {},
     "output_type": "execute_result"
    }
   ],
   "source": [
    "input = (np.random.rand(10,10)*255).astype(np.uint8)\n",
    "input"
   ]
  },
  {
   "cell_type": "code",
   "execution_count": 3,
   "metadata": {},
   "outputs": [
    {
     "name": "stdout",
     "output_type": "stream",
     "text": [
      "hello from denoise wrapper\n"
     ]
    },
    {
     "data": {
      "text/plain": [
       "array([[0, 0, 0, 0, 0, 0, 0, 0, 0, 0],\n",
       "       [0, 0, 0, 0, 0, 0, 0, 0, 0, 0],\n",
       "       [0, 0, 0, 0, 0, 0, 0, 0, 0, 0],\n",
       "       [0, 0, 0, 0, 0, 0, 0, 0, 0, 0],\n",
       "       [0, 0, 0, 0, 0, 0, 0, 0, 0, 0],\n",
       "       [0, 0, 0, 0, 0, 0, 0, 0, 0, 0],\n",
       "       [0, 0, 0, 0, 0, 0, 0, 0, 0, 0],\n",
       "       [0, 0, 0, 0, 0, 0, 0, 0, 0, 0],\n",
       "       [0, 0, 0, 0, 0, 0, 0, 0, 0, 0],\n",
       "       [0, 0, 0, 0, 0, 0, 0, 0, 0, 0]], dtype=uint8)"
      ]
     },
     "execution_count": 3,
     "metadata": {},
     "output_type": "execute_result"
    }
   ],
   "source": [
    "x = pyGpuBM3D.denoise(input)\n",
    "x"
   ]
  }
 ],
 "metadata": {
  "kernelspec": {
   "display_name": "denoise",
   "language": "python",
   "name": "python3"
  },
  "language_info": {
   "codemirror_mode": {
    "name": "ipython",
    "version": 3
   },
   "file_extension": ".py",
   "mimetype": "text/x-python",
   "name": "python",
   "nbconvert_exporter": "python",
   "pygments_lexer": "ipython3",
   "version": "3.10.12"
  }
 },
 "nbformat": 4,
 "nbformat_minor": 2
}
